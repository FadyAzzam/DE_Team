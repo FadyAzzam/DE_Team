{
 "cells": [
  {
   "cell_type": "code",
   "execution_count": 1,
   "metadata": {},
   "outputs": [
    {
     "name": "stdout",
     "output_type": "stream",
     "text": [
      "4.20.0\n"
     ]
    }
   ],
   "source": [
    "import selenium\n",
    "from selenium import webdriver\n",
    "from selenium.webdriver.common.keys import Keys\n",
    "from selenium.webdriver.common.by import By\n",
    "from selenium.webdriver.chrome.service import Service\n",
    "from selenium.webdriver.chrome.options import Options\n",
    "from selenium.webdriver.support.ui import WebDriverWait\n",
    "from selenium.webdriver.support import expected_conditions as EC\n",
    "import pandas as pd\n",
    "print(selenium.__version__)"
   ]
  },
  {
   "cell_type": "code",
   "execution_count": 32,
   "metadata": {},
   "outputs": [
    {
     "name": "stdout",
     "output_type": "stream",
     "text": [
      "\n",
      "['N/A']\n",
      "[0]\n",
      "N/A\n"
     ]
    },
    {
     "data": {
      "text/html": [
       "<div>\n",
       "<style scoped>\n",
       "    .dataframe tbody tr th:only-of-type {\n",
       "        vertical-align: middle;\n",
       "    }\n",
       "\n",
       "    .dataframe tbody tr th {\n",
       "        vertical-align: top;\n",
       "    }\n",
       "\n",
       "    .dataframe thead th {\n",
       "        text-align: right;\n",
       "    }\n",
       "</style>\n",
       "<table border=\"1\" class=\"dataframe\">\n",
       "  <thead>\n",
       "    <tr style=\"text-align: right;\">\n",
       "      <th></th>\n",
       "      <th>INDEX</th>\n",
       "      <th>NOMBRE</th>\n",
       "      <th>TEXT</th>\n",
       "    </tr>\n",
       "  </thead>\n",
       "  <tbody>\n",
       "    <tr>\n",
       "      <th>0</th>\n",
       "      <td>0</td>\n",
       "      <td>Colombia</td>\n",
       "      <td>N/A</td>\n",
       "    </tr>\n",
       "  </tbody>\n",
       "</table>\n",
       "</div>"
      ],
      "text/plain": [
       "   INDEX    NOMBRE TEXT\n",
       "0      0  Colombia  N/A"
      ]
     },
     "execution_count": 32,
     "metadata": {},
     "output_type": "execute_result"
    }
   ],
   "source": [
    "#create empty lists to store data\n",
    "list_results = []\n",
    "list_indexes = []\n",
    "\n",
    "#define list of names to lookup\n",
    "list_names = [\n",
    "    \"Colombia\"\n",
    "]\n",
    "\n",
    "\n",
    "#open driver\n",
    "service = Service()\n",
    "options = webdriver.ChromeOptions()\n",
    "driver = webdriver.Chrome(service=service, options=options)\n",
    "\n",
    "#loop through shit\n",
    "\n",
    "for j in range(len(list_names)):\n",
    "\n",
    "    #go to desired webpage\n",
    "    driver.get(\"https://data.worldbank.org/country\")\n",
    "\n",
    "    #fill box 1 and press enter\n",
    "\n",
    "    # time.sleep(0.5)\n",
    "    usr = driver.find_element(By.ID, \"overviewSearch\")\n",
    "    usr.send_keys(list_names[j])\n",
    "    usr.send_keys(Keys.RETURN)\n",
    "    print(usr.text)\n",
    "    # usr2 = driver.find_element(By.NAME, \"dato[1]\")\n",
    "    # usr2.send_keys(\"PEPOTE\")\n",
    "\n",
    "\n",
    "    #we store the result in a variable --> we want the text from this fkn box\n",
    "    try:\n",
    "        # res = driver.find_element(By.CLASS_NAME,\"indicator-item__data-info\")\n",
    "        # res= driver.find_element(By.XPATH,'//*[@id=\"0\"]/div[2]/div/div[3]/div/div[2]/span').text\n",
    "        res= driver.find_element(By.CLASS_NAME,\"indicator-status-bar\")\n",
    "        data = res.text\n",
    "    except:\n",
    "        data = \"N/A\"\n",
    "\n",
    "    #store the data in a list\n",
    "    list_results.append(data)\n",
    "\n",
    "    #store the index in a list\n",
    "    list_indexes.append(j)\n",
    "\n",
    "    print(list_results)\n",
    "print(list_indexes)\n",
    "print(data)\n",
    "#Store lists in dictionary, then convert to dataframe\n",
    "d={'INDEX':list_indexes,'NOMBRE':list_names,'TEXT':list_results}\n",
    "df_migration=pd.DataFrame(d)\n",
    "df_migration.head()"
   ]
  },
  {
   "cell_type": "code",
   "execution_count": 19,
   "metadata": {},
   "outputs": [
    {
     "name": "stdout",
     "output_type": "stream",
     "text": [
      "\n",
      "\n",
      "\n",
      "\n",
      "\n",
      "\n",
      "\n",
      "\n",
      "\n",
      "\n",
      "\n",
      "\n",
      "\n",
      "\n",
      "\n"
     ]
    }
   ],
   "source": [
    "#create empty lists to store data\n",
    "list_results = []\n",
    "list_indexes = []\n",
    "\n",
    "#define list of names to lookup\n",
    "list_names = [\n",
    "    \"Colombia\",\n",
    "    \"Peru\",\n",
    "    \"Chile\",\n",
    "    \"US\",\n",
    "    \"Ecuador\",\n",
    "    \"Spain\",\n",
    "    \"Brazil\",\n",
    "    \"Argentina\",\n",
    "    \"Panama\",\n",
    "    \"Mexico\",\n",
    "    \"Italy\",\n",
    "    \"Dominican Republic\",\n",
    "    \"Costa Rica\",\n",
    "    \"Portugal\",\n",
    "    \"Trinidad and Tobago\"\n",
    "]\n",
    "\n",
    "\n",
    "#open driver\n",
    "service = Service()\n",
    "options = webdriver.ChromeOptions()\n",
    "driver = webdriver.Chrome(service=service, options=options)\n",
    "\n",
    "#loop through shit\n",
    "\n",
    "for j in range(len(list_names)):\n",
    "\n",
    "    #go to desired webpage\n",
    "    driver.get(\"https://data.worldbank.org/country\")\n",
    "\n",
    "    #fill box 1 and press enter\n",
    "\n",
    "    # time.sleep(0.5)\n",
    "    usr = driver.find_element(By.ID, \"overviewSearch\")\n",
    "    usr.send_keys(list_names[j])\n",
    "    usr.send_keys(Keys.RETURN)\n",
    "    print(usr.text)\n",
    "    # usr2 = driver.find_element(By.NAME, \"dato[1]\")\n",
    "    # usr2.send_keys(\"PEPOTE\")\n",
    "\n",
    "\n",
    "    #we store the result in a variable --> we want the text from this fkn box\n",
    "    try:\n",
    "        # res = driver.find_element(By.CLASS_NAME,\"indicator-item__data-info\")\n",
    "        # res= driver.find_element(By.XPATH,'//*[@id=\"0\"]/div[2]/div/div[3]/div/div[2]/span').text\n",
    "        res= driver.find_element(By.CLASS_NAME,\"links btn-item icon-flag\")\n",
    "        data = res.text\n",
    "    except:\n",
    "        data = \"N/A\"\n",
    "\n",
    "    #store the data in a list\n",
    "    list_results.append(data)\n",
    "\n",
    "    #store the index in a list\n",
    "    list_indexes.append(j)"
   ]
  },
  {
   "cell_type": "code",
   "execution_count": 24,
   "metadata": {},
   "outputs": [
    {
     "name": "stdout",
     "output_type": "stream",
     "text": [
      "['N/A', 'N/A', 'N/A', 'N/A', 'N/A', 'N/A', 'N/A', 'N/A', 'N/A', 'N/A', 'N/A', 'N/A', 'N/A', 'N/A', 'N/A']\n",
      "[0, 1, 2, 3, 4, 5, 6, 7, 8, 9, 10, 11, 12, 13, 14]\n",
      "<selenium.webdriver.remote.webelement.WebElement (session=\"dc82eabf014a8c6ca4b27db9d11b8c6a\", element=\"f.271D2DF018939229D8D69A2075AAC556.d.BD92D494372491E457BF99B4E5B34090.e.184\")>\n"
     ]
    },
    {
     "data": {
      "text/html": [
       "<div>\n",
       "<style scoped>\n",
       "    .dataframe tbody tr th:only-of-type {\n",
       "        vertical-align: middle;\n",
       "    }\n",
       "\n",
       "    .dataframe tbody tr th {\n",
       "        vertical-align: top;\n",
       "    }\n",
       "\n",
       "    .dataframe thead th {\n",
       "        text-align: right;\n",
       "    }\n",
       "</style>\n",
       "<table border=\"1\" class=\"dataframe\">\n",
       "  <thead>\n",
       "    <tr style=\"text-align: right;\">\n",
       "      <th></th>\n",
       "      <th>INDEX</th>\n",
       "      <th>NOMBRE</th>\n",
       "      <th>TEXT</th>\n",
       "    </tr>\n",
       "  </thead>\n",
       "  <tbody>\n",
       "    <tr>\n",
       "      <th>0</th>\n",
       "      <td>0</td>\n",
       "      <td>Colombia</td>\n",
       "      <td>N/A</td>\n",
       "    </tr>\n",
       "    <tr>\n",
       "      <th>1</th>\n",
       "      <td>1</td>\n",
       "      <td>Peru</td>\n",
       "      <td>N/A</td>\n",
       "    </tr>\n",
       "    <tr>\n",
       "      <th>2</th>\n",
       "      <td>2</td>\n",
       "      <td>Chile</td>\n",
       "      <td>N/A</td>\n",
       "    </tr>\n",
       "    <tr>\n",
       "      <th>3</th>\n",
       "      <td>3</td>\n",
       "      <td>US</td>\n",
       "      <td>N/A</td>\n",
       "    </tr>\n",
       "    <tr>\n",
       "      <th>4</th>\n",
       "      <td>4</td>\n",
       "      <td>Ecuador</td>\n",
       "      <td>N/A</td>\n",
       "    </tr>\n",
       "  </tbody>\n",
       "</table>\n",
       "</div>"
      ],
      "text/plain": [
       "   INDEX    NOMBRE TEXT\n",
       "0      0  Colombia  N/A\n",
       "1      1      Peru  N/A\n",
       "2      2     Chile  N/A\n",
       "3      3        US  N/A\n",
       "4      4   Ecuador  N/A"
      ]
     },
     "execution_count": 24,
     "metadata": {},
     "output_type": "execute_result"
    }
   ],
   "source": [
    "print(list_results)\n",
    "print(list_indexes)\n",
    "print(usr)\n",
    "#Store lists in dictionary, then convert to dataframe\n",
    "d={'INDEX':list_indexes,'NOMBRE':list_names,'TEXT':list_results}\n",
    "df_migration=pd.DataFrame(d)\n",
    "df_migration.head()"
   ]
  },
  {
   "cell_type": "code",
   "execution_count": 10,
   "metadata": {},
   "outputs": [
    {
     "name": "stdout",
     "output_type": "stream",
     "text": [
      "\n"
     ]
    }
   ],
   "source": [
    "print(usr.text)"
   ]
  },
  {
   "cell_type": "code",
   "execution_count": null,
   "metadata": {},
   "outputs": [
    {
     "data": {
      "text/html": [
       "<div>\n",
       "<style scoped>\n",
       "    .dataframe tbody tr th:only-of-type {\n",
       "        vertical-align: middle;\n",
       "    }\n",
       "\n",
       "    .dataframe tbody tr th {\n",
       "        vertical-align: top;\n",
       "    }\n",
       "\n",
       "    .dataframe thead th {\n",
       "        text-align: right;\n",
       "    }\n",
       "</style>\n",
       "<table border=\"1\" class=\"dataframe\">\n",
       "  <thead>\n",
       "    <tr style=\"text-align: right;\">\n",
       "      <th></th>\n",
       "      <th>INDEX</th>\n",
       "      <th>NOMBRE</th>\n",
       "      <th>TEXT</th>\n",
       "    </tr>\n",
       "  </thead>\n",
       "  <tbody>\n",
       "    <tr>\n",
       "      <th>0</th>\n",
       "      <td>0</td>\n",
       "      <td>PEPITO</td>\n",
       "      <td>Suplemento de Notificaciones del Boletín Ofici...</td>\n",
       "    </tr>\n",
       "    <tr>\n",
       "      <th>1</th>\n",
       "      <td>1</td>\n",
       "      <td>PEPOTE</td>\n",
       "      <td>N/A</td>\n",
       "    </tr>\n",
       "    <tr>\n",
       "      <th>2</th>\n",
       "      <td>2</td>\n",
       "      <td>FRANCO</td>\n",
       "      <td>Suplemento de Notificaciones del Boletín Ofici...</td>\n",
       "    </tr>\n",
       "    <tr>\n",
       "      <th>3</th>\n",
       "      <td>3</td>\n",
       "      <td>PAULA</td>\n",
       "      <td>Suplemento de Notificaciones del Boletín Ofici...</td>\n",
       "    </tr>\n",
       "  </tbody>\n",
       "</table>\n",
       "</div>"
      ],
      "text/plain": [
       "   INDEX  NOMBRE                                               TEXT\n",
       "0      0  PEPITO  Suplemento de Notificaciones del Boletín Ofici...\n",
       "1      1  PEPOTE                                                N/A\n",
       "2      2  FRANCO  Suplemento de Notificaciones del Boletín Ofici...\n",
       "3      3   PAULA  Suplemento de Notificaciones del Boletín Ofici..."
      ]
     },
     "execution_count": 13,
     "metadata": {},
     "output_type": "execute_result"
    }
   ],
   "source": [
    "#Store lists in dictionary, then convert to dataframe\n",
    "d={'INDEX':list_indexes,'NOMBRE':list_names,'TEXT':list_results}\n",
    "df_multas=pd.DataFrame(d)\n",
    "df_multas.head()"
   ]
  },
  {
   "cell_type": "code",
   "execution_count": null,
   "metadata": {},
   "outputs": [],
   "source": [
    "#save as csv\n",
    "df_multas.to_csv(r\"C:\\Users\\ARoncal\\source\\repos\")"
   ]
  },
  {
   "cell_type": "code",
   "execution_count": null,
   "metadata": {},
   "outputs": [],
   "source": []
  },
  {
   "cell_type": "code",
   "execution_count": null,
   "metadata": {},
   "outputs": [],
   "source": []
  }
 ],
 "metadata": {
  "kernelspec": {
   "display_name": "base",
   "language": "python",
   "name": "python3"
  },
  "language_info": {
   "codemirror_mode": {
    "name": "ipython",
    "version": 3
   },
   "file_extension": ".py",
   "mimetype": "text/x-python",
   "name": "python",
   "nbconvert_exporter": "python",
   "pygments_lexer": "ipython3",
   "version": "3.9.19"
  },
  "orig_nbformat": 4,
  "vscode": {
   "interpreter": {
    "hash": "ad2bdc8ecc057115af97d19610ffacc2b4e99fae6737bb82f5d7fb13d2f2c186"
   }
  }
 },
 "nbformat": 4,
 "nbformat_minor": 2
}
